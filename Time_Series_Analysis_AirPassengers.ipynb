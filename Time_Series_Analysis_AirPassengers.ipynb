{
  "cells": [
    {
      "cell_type": "markdown",
      "metadata": {
        "id": "FcrF2otmLtF6"
      },
      "source": [
        "Time Series Analysis - AirPassengers Data\n",
        "https://builtin.com/data-science/time-series-python"
      ]
    },
    {
      "cell_type": "markdown",
      "metadata": {
        "id": "isylwmDNMIDY"
      },
      "source": [
        "Across industries, organizations commonly use time series data, which means any information collected over a regular interval of time, in their operations. Examples include daily stock prices, energy consumption rates, social media engagement metrics and retail demand, among others. Analyzing time series data yields insights like trends, seasonal patterns and forecasts into future events that can help generate profits. \n",
        "\n",
        "When analyzing time series data, you should undertake a number of steps. First, you need to check for stationarity and autocorrelation. Stationarity is a way to measure if the data has structural patterns like seasonal trends. Autocorrelation occurs when future values in a time series linearly depend on past values. You need to check for both of these in time series data because they’re assumptions that are made by many widely used methods in time series analysis. For example, the autoregressive integrated moving average (ARIMA) method for forecasting time series assumes stationarity. Further, linear regression for time series forecasting assumes that the data has no autocorrelation. Before conducting these processes, then, you need to know if the data is viable for the analysis.\n",
        "\n",
        "During a time series analysis in Python, you also need to perform trend decomposition and forecast future values. Decomposition allows you to visualize trends in your data, which is a great way to clearly explain their behavior. Finally, forecasting allows you to anticipate future events that can aid in decision making. You can use many different techniques for time series forecasting, but here, we will discuss the autoregressive integrated moving average (ARIMA)."
      ]
    },
    {
      "cell_type": "code",
      "execution_count": null,
      "metadata": {
        "id": "LhevrZv2NGQ4"
      },
      "outputs": [],
      "source": [
        "import pandas as pd"
      ]
    },
    {
      "cell_type": "code",
      "execution_count": null,
      "metadata": {
        "colab": {
          "base_uri": "https://localhost:8080/",
          "height": 73
        },
        "id": "Rgwqln0RLnYb",
        "outputId": "ae9fc182-8e7a-49dc-9628-01ef5a9e5a5d"
      },
      "outputs": [],
      "source": [
        "from google.colab import files\n",
        "uploaded = files.upload()"
      ]
    },
    {
      "cell_type": "code",
      "execution_count": null,
      "metadata": {
        "id": "gWvnr9aqNVOQ"
      },
      "outputs": [],
      "source": [
        "import io\n",
        "df = pd.read_csv(io.BytesIO(uploaded['AirPassengers.csv']))"
      ]
    },
    {
      "cell_type": "code",
      "execution_count": null,
      "metadata": {
        "colab": {
          "base_uri": "https://localhost:8080/"
        },
        "id": "4Ukdk6lpNbtn",
        "outputId": "23fde513-59f0-4271-d760-6c8497d790f0"
      },
      "outputs": [],
      "source": [
        "print(df.head())"
      ]
    },
    {
      "cell_type": "code",
      "execution_count": null,
      "metadata": {
        "colab": {
          "base_uri": "https://localhost:8080/"
        },
        "id": "leDZihNkQFNs",
        "outputId": "784e4a75-5817-4e92-d7ba-ef8bc050357c"
      },
      "outputs": [],
      "source": [
        "# convert the month column into a datetime object. This will allow it to programmatically pull time values like the year or month for each record.\n",
        "# this process automatically inserts the first day of each month, which is basically a dummy value since we have no daily passenger data\n",
        "df['Month'] = pd.to_datetime(df['Month'], format='%Y-%m')\n",
        "print(df.head())"
      ]
    },
    {
      "cell_type": "code",
      "execution_count": null,
      "metadata": {
        "colab": {
          "base_uri": "https://localhost:8080/"
        },
        "id": "SS5xOilCSC8y",
        "outputId": "77d238cc-32d2-4a20-dc7f-312fcd7fdcc7"
      },
      "outputs": [],
      "source": [
        "# convert the month column to an index. This will allow us to more easily work with some of the packages \n",
        "df.index = df['Month']\n",
        "del df['Month']\n",
        "print(df.head())"
      ]
    },
    {
      "cell_type": "code",
      "execution_count": null,
      "metadata": {
        "id": "ad2f787nR0Ra"
      },
      "outputs": [],
      "source": [
        "import matplotlib.pyplot as plt\n",
        "import seaborn as sns "
      ]
    },
    {
      "cell_type": "code",
      "execution_count": null,
      "metadata": {
        "colab": {
          "base_uri": "https://localhost:8080/",
          "height": 475
        },
        "id": "XnymOaWKS72s",
        "outputId": "573851f0-684f-499d-dedc-1302a7398bbb"
      },
      "outputs": [],
      "source": [
        "sns.lineplot(df)\n",
        "plt.ylabel(\"Number of Passengers\")"
      ]
    },
    {
      "cell_type": "markdown",
      "metadata": {
        "id": "RtXhYAIHU-S-"
      },
      "source": [
        "Stationarity is a key part of time series analysis. Simply put, stationarity means that the manner in which time series data changes is constant. A stationary time series will not have any trends or seasonal patterns. You should check for stationarity because it not only makes modeling time series easier, but it is an underlying assumption in many time series methods. Specifically, stationarity is assumed for a wide variety of time series forecasting methods including autoregressive moving average (ARMA), ARIMA and Seasonal ARIMA (SARIMA).\n",
        "\n",
        "Null Hypothesis - There is no stationarity\n",
        "\n",
        "Alternative Hyp - There is stationarity\n",
        "\n",
        "We will use the Dickey Fuller test to check for stationarity in our data. This test will generate critical values and a p-value, which will allow us to accept or reject the null hypothesis that there is no stationarity. If we reject the null hypothesis, that means we accept the alternative, which states that there is stationarity.\n",
        "\n",
        "These values allow us to test the degree to which present values change with past values. If there is no stationarity in the data set, a change in present values will not cause a significant change in past values."
      ]
    },
    {
      "cell_type": "code",
      "execution_count": null,
      "metadata": {
        "id": "dnQWWDxST0oA"
      },
      "outputs": [],
      "source": [
        "# Let’s test for stationarity in our airline passenger data. To start, let’s calculate a seven-month rolling mean\n",
        "rolling_mean = df.rolling(7).mean()\n",
        "rolling_std = df.rolling(7).std()"
      ]
    },
    {
      "cell_type": "code",
      "execution_count": null,
      "metadata": {
        "colab": {
          "base_uri": "https://localhost:8080/",
          "height": 474
        },
        "id": "Ek2fPxLAXZRs",
        "outputId": "1cfb09f2-4542-4a18-e2a4-fd1c248799a5"
      },
      "outputs": [],
      "source": [
        "plt.plot(df, color=\"blue\",label=\"Original Passenger Data\")\n",
        "plt.plot(rolling_mean, color=\"red\", label=\"Rolling Mean Passenger Number\")\n",
        "plt.plot(rolling_std, color=\"black\", label = \"Rolling Standard Deviation in Passenger Number\")\n",
        "plt.title(\"Passenger Time Series, Rolling Mean, Standard Deviation\")\n",
        "plt.legend(loc=\"best\")"
      ]
    },
    {
      "cell_type": "code",
      "execution_count": null,
      "metadata": {
        "id": "YROdZfJmX9Ms"
      },
      "outputs": [],
      "source": [
        "# import the augmented Dickey-Fuller test from the statsmodels package\n",
        "from statsmodels.tsa.stattools import adfuller"
      ]
    },
    {
      "cell_type": "code",
      "execution_count": null,
      "metadata": {
        "id": "Ba5CQlz_YNO7"
      },
      "outputs": [],
      "source": [
        "# let’s pass our data frame into the adfuller method. \n",
        "# Here, we specify the autolag parameter as “AIC,” which means that the lag is chosen to minimize the information criterion\n",
        "adft = adfuller(df,autolag=\"AIC\")"
      ]
    },
    {
      "cell_type": "code",
      "execution_count": null,
      "metadata": {
        "colab": {
          "base_uri": "https://localhost:8080/"
        },
        "id": "W_DA8UB5YsNi",
        "outputId": "d4b8d137-4ad4-40c0-8bbb-9fea572c3e90"
      },
      "outputs": [],
      "source": [
        "output_df = pd.DataFrame({\"Values\":[adft[0],adft[1],adft[2],adft[3], adft[4]['1%'], adft[4]['5%'], adft[4]['10%']], \n",
        "                          \"Metric\":[\"Test Statistics\",\"p-value\",\"No. of lags used\",\"Number of observations used\", \n",
        "                           \"critical value (1%)\", \"critical value (5%)\", \"critical value (10%)\"]})\n",
        "print(output_df)\n",
        "# our data is not stationary from the fact that our p-value is greater than 5 percent and the test statistic is greater than the critical value. \n",
        "# p value greater than .05, accept the null hypothesis\n",
        "# We can also draw these conclusions from inspecting the data, as we see a clear, increasing trend in the number of passengers."
      ]
    },
    {
      "cell_type": "markdown",
      "metadata": {
        "id": "Dc37seIAbn0P"
      },
      "source": [
        "**Autocorrelation**\n",
        "Checking time series data for autocorrelation in Python is another important part of the analytic process. This is a measure of how correlated time series data is at a given point in time with past values, which has huge implications across many industries. For example, if our passenger data has strong autocorrelation, we can assume that high passenger numbers today suggest a strong likelihood that they will be high tomorrow as well."
      ]
    },
    {
      "cell_type": "code",
      "execution_count": null,
      "metadata": {
        "colab": {
          "base_uri": "https://localhost:8080/"
        },
        "id": "0sDrROJabqGv",
        "outputId": "fd9c6c3d-106c-4390-9330-94f4c0abbcd5"
      },
      "outputs": [],
      "source": [
        "# The Pandas data frame has an autocorrelation method that we can use to calculate the autocorrelation in our passenger data\n",
        "autocorrelation_lag1 = df['#Passengers'].autocorr(lag=1)\n",
        "print(\"One Month Lag: \", autocorrelation_lag1)"
      ]
    },
    {
      "cell_type": "code",
      "execution_count": null,
      "metadata": {
        "colab": {
          "base_uri": "https://localhost:8080/"
        },
        "id": "n3mNnMNxb7rl",
        "outputId": "0ea68631-2bb1-43ac-cfdf-77716ab96f88"
      },
      "outputs": [],
      "source": [
        "# let’s try three, six and nine months:\n",
        "# even with a nine-month lag, the data is highly autocorrelated. \n",
        "\n",
        "autocorrelation_lag3 = df['#Passengers'].autocorr(lag=3)\n",
        "print(\"Three Month Lag: \", autocorrelation_lag3)\n",
        "\n",
        "autocorrelation_lag6 = df['#Passengers'].autocorr(lag=6)\n",
        "print(\"Six Month Lag: \", autocorrelation_lag6)\n",
        "\n",
        "autocorrelation_lag9 = df['#Passengers'].autocorr(lag=9)\n",
        "print(\"Nine Month Lag: \", autocorrelation_lag9)"
      ]
    },
    {
      "cell_type": "markdown",
      "metadata": {
        "id": "cUVLMLqHcKPm"
      },
      "source": [
        "Decomposition\n",
        "\n",
        "Trend decomposition is another useful way to visualize the trends in time series data"
      ]
    },
    {
      "cell_type": "code",
      "execution_count": null,
      "metadata": {
        "id": "Eg5TxLh_cLyu"
      },
      "outputs": [],
      "source": [
        "# import seasonal_decompose from the statsmodels package:\n",
        "from statsmodels.tsa.seasonal import seasonal_decompose"
      ]
    },
    {
      "cell_type": "code",
      "execution_count": null,
      "metadata": {
        "colab": {
          "base_uri": "https://localhost:8080/",
          "height": 487
        },
        "id": "S_AXLzCIcTjn",
        "outputId": "ab46ef7b-33d0-4886-9900-b2a747a89efb"
      },
      "outputs": [],
      "source": [
        "# let’s pass our data frame into the seasonal_decompose method and plot the result:\n",
        "decompose = seasonal_decompose(df['#Passengers'],model='additive', period=7)\n",
        "decompose.plot()\n",
        "plt.show()\n",
        "\n",
        "# we can clearly see the increasing trend in number of passengers and the seasonality patterns in the rise and fall in values each year."
      ]
    },
    {
      "cell_type": "markdown",
      "metadata": {
        "id": "_NktqwYSckKS"
      },
      "source": [
        "Forecasting\n",
        "\n",
        "Time series forecasting allows us to predict future values in a time series given current and past data. Here, we will use the ARIMA method to forecast the number of passengers, which allows us to forecast future values in terms of a linear combination of past values. We will use the auto_arima package, which will allow us to forgo the time consuming process of hyperparameter tuning."
      ]
    },
    {
      "cell_type": "code",
      "execution_count": null,
      "metadata": {
        "colab": {
          "base_uri": "https://localhost:8080/",
          "height": 238
        },
        "id": "1Ktou_d8H0Xe",
        "outputId": "f19dbc4a-c6f7-4947-af0a-2651c5991d78"
      },
      "outputs": [],
      "source": [
        "df.head()"
      ]
    },
    {
      "cell_type": "code",
      "execution_count": null,
      "metadata": {
        "colab": {
          "base_uri": "https://localhost:8080/",
          "height": 480
        },
        "id": "kTgYxd8nIHdS",
        "outputId": "81fe8c73-35ee-4f9a-cd5a-867d3861e154"
      },
      "outputs": [],
      "source": [
        "# let’s split our data for training and testing and visualize the split:\n",
        "train = df[df.index < pd.to_datetime(\"1960-08\", format='%Y-%m')]\n",
        "test = df[df.index >= pd.to_datetime(\"1960-08\", format='%Y-%m')]\n",
        "plt.plot(train, color = \"black\")\n",
        "plt.plot(test, color = \"red\")\n",
        "plt.title(\"Train/Test split for Passenger Data\")\n",
        "plt.ylabel(\"Passenger Number\")\n",
        "plt.xlabel('Year-Month')\n",
        "sns.set()\n",
        "# The black line corresponds to our training data and the red line corresponds to our test data."
      ]
    },
    {
      "cell_type": "code",
      "execution_count": null,
      "metadata": {
        "colab": {
          "base_uri": "https://localhost:8080/"
        },
        "id": "GWg2KAt6fQUl",
        "outputId": "3330c632-7f87-4837-c986-f12b2671e2b6"
      },
      "outputs": [],
      "source": [
        "! pip install pmdarima"
      ]
    },
    {
      "cell_type": "code",
      "execution_count": null,
      "metadata": {
        "colab": {
          "base_uri": "https://localhost:8080/"
        },
        "id": "hEc4ludyc8v2",
        "outputId": "e5860696-c565-4919-efb4-dd0be4bc7ee0"
      },
      "outputs": [],
      "source": [
        "#Let’s import auto_arima from the pdmarima package, train our model and generate predictions:\n",
        "\n",
        "from pmdarima.arima import auto_arima\n",
        "model = auto_arima(train, trace=True, error_action='ignore', suppress_warnings=True)\n",
        "model.fit(train)\n",
        "forecast = model.predict(n_periods=len(test))\n",
        "forecast = pd.DataFrame(forecast,index = test.index,columns=['Prediction'])"
      ]
    },
    {
      "cell_type": "code",
      "execution_count": null,
      "metadata": {
        "colab": {
          "base_uri": "https://localhost:8080/",
          "height": 238
        },
        "id": "mVO6kv5DJQhh",
        "outputId": "cd1b86cd-8f1b-45ad-d345-3a697782f1fe"
      },
      "outputs": [],
      "source": [
        "forecast"
      ]
    },
    {
      "cell_type": "code",
      "execution_count": null,
      "metadata": {
        "colab": {
          "base_uri": "https://localhost:8080/",
          "height": 451
        },
        "id": "bwZpRnGrg0Pb",
        "outputId": "5756d0ac-e560-4434-fcf2-354839e2f8c5"
      },
      "outputs": [],
      "source": [
        "plt.plot(train, color = \"black\")\n",
        "plt.plot(test, color = \"red\")\n",
        "plt.plot(forecast)\n",
        "# Our predictions are shown in blue and the actual values are shown in red."
      ]
    },
    {
      "cell_type": "code",
      "execution_count": null,
      "metadata": {
        "colab": {
          "base_uri": "https://localhost:8080/"
        },
        "id": "rYR2ytoufu_H",
        "outputId": "f4fa766a-db01-4efc-944b-be35e2cab7f7"
      },
      "outputs": [],
      "source": [
        "from math import sqrt\n",
        "from sklearn.metrics import mean_squared_error\n",
        "rms = sqrt(mean_squared_error(test,forecast))\n",
        "print(\"RMSE: \", rms)"
      ]
    }
  ],
  "metadata": {
    "colab": {
      "provenance": []
    },
    "kernelspec": {
      "display_name": "Python 3",
      "name": "python3"
    },
    "language_info": {
      "name": "python"
    }
  },
  "nbformat": 4,
  "nbformat_minor": 0
}
