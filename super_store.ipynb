{
 "cells": [
  {
   "cell_type": "code",
   "execution_count": null,
   "metadata": {},
   "outputs": [],
   "source": [
    "import pandas as pd\n",
    "import matplotlib.pyplot as plt\n",
    "import seaborn as sns"
   ]
  },
  {
   "cell_type": "code",
   "execution_count": null,
   "metadata": {},
   "outputs": [],
   "source": []
  },
  {
   "cell_type": "code",
   "execution_count": null,
   "metadata": {},
   "outputs": [],
   "source": [
    "#Data loading from CSV\n",
    "df = pd.read_csv('E:/Python/Programs/casestudy/SampleSuperstore.csv')"
   ]
  },
  {
   "cell_type": "code",
   "execution_count": null,
   "metadata": {},
   "outputs": [],
   "source": [
    "df.head()"
   ]
  },
  {
   "cell_type": "code",
   "execution_count": null,
   "metadata": {},
   "outputs": [],
   "source": [
    "df.shape"
   ]
  },
  {
   "cell_type": "code",
   "execution_count": null,
   "metadata": {},
   "outputs": [],
   "source": [
    "#Summarized information of the datsset\n",
    "df.info()"
   ]
  },
  {
   "cell_type": "code",
   "execution_count": null,
   "metadata": {},
   "outputs": [],
   "source": [
    "#Find the number of null values for all columns\n",
    "df.isnull().sum()"
   ]
  },
  {
   "cell_type": "code",
   "execution_count": null,
   "metadata": {},
   "outputs": [],
   "source": [
    "# Find the number of duplicate data\n",
    "df.duplicated().sum()"
   ]
  },
  {
   "cell_type": "code",
   "execution_count": null,
   "metadata": {},
   "outputs": [],
   "source": [
    "# Drop the duplicated rows\n",
    "df.drop_duplicates(inplace = True)"
   ]
  },
  {
   "cell_type": "code",
   "execution_count": null,
   "metadata": {},
   "outputs": [],
   "source": [
    "#add profit margin\n",
    "df['ProfitMargin%'] = (df.Profit / df.Sales ) * 100\n",
    "df.head()"
   ]
  },
  {
   "cell_type": "code",
   "execution_count": null,
   "metadata": {},
   "outputs": [],
   "source": [
    "#Descriptive statistics\n",
    "df.describe(include = 'all')"
   ]
  },
  {
   "cell_type": "code",
   "execution_count": null,
   "metadata": {},
   "outputs": [],
   "source": [
    "# Plot shipment mode - Standard Class is the preferred method of shipment\n",
    "sns.countplot(df['Ship Mode'], palette = \"rainbow\")\n",
    "plt.title(\"Ship Mode\")"
   ]
  },
  {
   "cell_type": "code",
   "execution_count": null,
   "metadata": {},
   "outputs": [],
   "source": [
    "#Which Customer Segment is Most Profitable?  - Consumer segment is most profitable,\n",
    "dfs = pd.DataFrame(df.groupby(['Segment'])[['Profit']].sum())\n",
    "sns.barplot(data = dfs, x = dfs.index, y = dfs.Profit, palette = \"winter\")\n",
    "plt.title(\"Customer Segment Profitability\")"
   ]
  },
  {
   "cell_type": "code",
   "execution_count": null,
   "metadata": {},
   "outputs": [],
   "source": [
    "#Which is the Top Selling Sub-Category?\n",
    "dfsc = pd.DataFrame(df.groupby(['Sub-Category'])[['Quantity']].sum().sort_values('Quantity',ascending=False))\n",
    "sns.barplot(data = dfsc, y = dfsc.index, x = dfsc.Quantity, palette = \"rainbow\")\n",
    "plt.title(\"Top Selling Sub-Category\")"
   ]
  },
  {
   "cell_type": "code",
   "execution_count": null,
   "metadata": {},
   "outputs": [],
   "source": [
    "# heatmap analysis - Profits, Sales and Quantity have strong bond, \n",
    "# means any slight change in any of these will impact the business\n",
    "plt.figure(figsize=(12,6))\n",
    "corr = df.corr()\n",
    "heatmap = sns.heatmap(corr, annot=True, cmap = 'GnBu')"
   ]
  },
  {
   "cell_type": "code",
   "execution_count": null,
   "metadata": {},
   "outputs": [],
   "source": [
    "# Which Region is the Most Profitable?\n",
    "dfr = pd.DataFrame(df.groupby(['Region'])['Profit'].sum().reset_index())\n",
    "# pie plot for most profitable by region\n",
    "explode = [0, 0, 0, 0.1]\n",
    "plt.pie(dfr.Profit, labels = dfr.Region, startangle = 90, autopct = \"%1.0f%%\", explode = explode, shadow = True)\n",
    "plt.title(\"Most Profitable by Region\")"
   ]
  },
  {
   "cell_type": "code",
   "execution_count": null,
   "metadata": {},
   "outputs": [],
   "source": [
    "#Group sales, profit & quantity by caregory\n",
    "dfc = pd.DataFrame(df.groupby(['Category'])[['Sales','Profit','Quantity']].sum())\n",
    "dfc"
   ]
  },
  {
   "cell_type": "code",
   "execution_count": null,
   "metadata": {},
   "outputs": [],
   "source": [
    "figure, axis = plt.subplots(1, 3, figsize=(8, 5))\n",
    "# Plot barplots\n",
    "cat1 = sns.barplot(x = dfc.index, y = dfc.Sales, ax=axis[0], palette = \"rainbow\")\n",
    "cat2 = sns.barplot(x = dfc.index, y = dfc.Profit, ax=axis[1], palette = \"pastel\")\n",
    "cat3 = sns.barplot(x = dfc.index, y = dfc.Quantity, ax=axis[2], palette = \"winter\")\n",
    "# Set titles\n",
    "cat1.set(title = 'Sales')\n",
    "cat2.set(title = 'Profit')\n",
    "cat3.set(title = 'Quantity')\n",
    "# Rotate axis for x-axis\n",
    "plt.setp(cat1.get_xticklabels(), rotation = 'vertical', size = 9)\n",
    "plt.setp(cat2.get_xticklabels(), rotation = 'vertical', size = 9)\n",
    "plt.setp(cat3.get_xticklabels(), rotation = 'vertical', size = 9)\n",
    "# Set spacing between subplots\n",
    "figure.tight_layout()"
   ]
  },
  {
   "cell_type": "code",
   "execution_count": null,
   "metadata": {},
   "outputs": [],
   "source": [
    "# which city has the highest sales\n",
    "dfcs = pd.DataFrame(df.groupby(['City'])['Sales', 'Quantity'].sum().sort_values('Sales',ascending = False))\n",
    "top10 = dfcs[:10]\n",
    "top10\n",
    "\n",
    "bottom10 = dfcs[-10:]\n",
    "bottom10"
   ]
  },
  {
   "cell_type": "code",
   "execution_count": null,
   "metadata": {},
   "outputs": [],
   "source": [
    "#left bar garph shows the top 10 cities and right side shows the bottom 10 cities\n",
    "# There is a huge disparity between the cities with highest sales and lowest sales. \n",
    "# Marketing strategy has to target the top 10 cities.\n",
    "figure, axis = plt.subplots(1,2, figsize=(12, 6))\n",
    "top10c = sns.barplot(data = top10, y = top10.index, x = top10.Sales, palette = \"rainbow\", ax = axis[0])\n",
    "#top10c.set(Title = \"Top 10 Cities with Highest Sales\")\n",
    "top10c.set_yticklabels(top10c.get_yticklabels(),size = 10)\n",
    "# Plot Bar Plot for Best Selling Sub-Category\n",
    "bottom10c = sns.barplot(data = bottom10, y = bottom10.index, x = bottom10.Sales, palette = \"coolwarm\", ax=axis[1])\n",
    "#bottom10c.set(Title = \"Bottom 10 Cities with Lowest Sales\")\n",
    "bottom10c.set_yticklabels(bottom10c.get_yticklabels(),size = 10)\n",
    "# Set spacing between subplots\n",
    "figure.tight_layout()\n",
    "plt.show()"
   ]
  },
  {
   "cell_type": "code",
   "execution_count": null,
   "metadata": {},
   "outputs": [],
   "source": []
  }
 ],
 "metadata": {
  "kernelspec": {
   "display_name": "Python 3",
   "language": "python",
   "name": "python3"
  },
  "language_info": {
   "codemirror_mode": {
    "name": "ipython",
    "version": 3
   },
   "file_extension": ".py",
   "mimetype": "text/x-python",
   "name": "python",
   "nbconvert_exporter": "python",
   "pygments_lexer": "ipython3",
   "version": "3.7.0"
  }
 },
 "nbformat": 4,
 "nbformat_minor": 2
}
